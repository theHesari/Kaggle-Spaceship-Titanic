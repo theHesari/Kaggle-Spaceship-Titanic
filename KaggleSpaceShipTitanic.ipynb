{
  "nbformat": 4,
  "nbformat_minor": 0,
  "metadata": {
    "colab": {
      "provenance": []
    },
    "kernelspec": {
      "name": "python3",
      "display_name": "Python 3"
    },
    "language_info": {
      "name": "python"
    }
  },
  "cells": [
    {
      "cell_type": "code",
      "source": [
        "! pip install https://github.com/pandas-profiling/pandas-profiling/archive/master.zip"
      ],
      "metadata": {
        "id": "FAozCxXdu6O0"
      },
      "execution_count": null,
      "outputs": []
    },
    {
      "cell_type": "markdown",
      "source": [
        "**Read Data**"
      ],
      "metadata": {
        "id": "-okGlW5zjbJS"
      }
    },
    {
      "cell_type": "code",
      "source": [
        "import pandas as pd\n",
        "from pandas_profiling import ProfileReport"
      ],
      "metadata": {
        "id": "17HJG_ObnLKa"
      },
      "execution_count": 163,
      "outputs": []
    },
    {
      "cell_type": "code",
      "source": [
        "df = pd.read_csv('/content/train.csv')\n",
        "df.info()"
      ],
      "metadata": {
        "id": "ilg_KhJanXtc"
      },
      "execution_count": null,
      "outputs": []
    },
    {
      "cell_type": "code",
      "source": [
        "\n",
        "profile = ProfileReport(\n",
        "    df,\n",
        "    title=\"Pandas Profiling Report\",\n",
        "    explorative=True,\n",
        "    plot={\"dpi\": 200, \"image_format\": \"png\"},\n",
        ")"
      ],
      "metadata": {
        "id": "ZqBKlRudvf7i"
      },
      "execution_count": 166,
      "outputs": []
    },
    {
      "cell_type": "code",
      "source": [
        "# Dig into database\n",
        "profile.to_notebook_iframe()"
      ],
      "metadata": {
        "id": "tgvDOFgywhca"
      },
      "execution_count": null,
      "outputs": []
    },
    {
      "cell_type": "markdown",
      "source": [
        "**Data Preprocessing**"
      ],
      "metadata": {
        "id": "Rh40KnAPnyTQ"
      }
    },
    {
      "cell_type": "code",
      "source": [
        "def preprocessing(df):\n",
        "  #Fill missing values in HomePlanet with Missing\n",
        "  df['HomePlanet'].fillna('Missing', inplace = True)\n",
        "  #CryoSleep -Highly Corelated to Transported\n",
        "  df['CryoSleep'].fillna('Missing', inplace = True)\n",
        "  #Cabin preprocessing - extract Deck and Side\n",
        "  df['TempCabin'] = df['Cabin'].apply(lambda x: split_cabin(x))\n",
        "  df['Deck'] = df['TempCabin'].apply(lambda x: x[0])\n",
        "  df['Side'] = df['TempCabin'].apply(lambda x: x[2])\n",
        "  df.drop(['TempCabin', 'Cabin'], axis = 1, inplace = True)\n",
        "  #Destination\n",
        "  df['Destination'].fillna('Missing', inplace = True)\n",
        "  #Age\n",
        "  df['Age'].fillna(df['Age'].mean(), inplace = True)\n",
        "  #VIP - drop na rows \n",
        "  df['VIP'].fillna('Missing', inplace = True)\n",
        "  #Monetary Spending Columns\n",
        "  df['RoomService'].fillna(0, inplace = True)\n",
        "  df['FoodCourt'].fillna(0, inplace = True)\n",
        "  df['ShoppingMall'].fillna(0, inplace = True)\n",
        "  df['Spa'].fillna(0, inplace = True)\n",
        "  df['VRDeck'].fillna(0, inplace = True)\n",
        "  #Drop Name due to high cardinality\n",
        "  df.drop('Name', axis = 1, inplace = True)\n",
        "  #Drop Remaining Rows\n",
        "  df.dropna(inplace = True)\n",
        "\n",
        "\n"
      ],
      "metadata": {
        "id": "SS800avnxkDk"
      },
      "execution_count": 167,
      "outputs": []
    },
    {
      "cell_type": "code",
      "source": [
        "abt = df.copy()\n",
        "preprocessing(abt)\n",
        "abt.info()"
      ],
      "metadata": {
        "id": "DXM-BJeaI6oY"
      },
      "execution_count": null,
      "outputs": []
    },
    {
      "cell_type": "code",
      "source": [
        "from sklearn.model_selection import train_test_split\n",
        "from sklearn.pipeline import make_pipeline\n",
        "from sklearn.preprocessing import StandardScaler\n",
        "from matplotlib import pyplot as plt\n",
        "import seaborn as sns"
      ],
      "metadata": {
        "id": "c2DLdMfXJIRc"
      },
      "execution_count": 169,
      "outputs": []
    },
    {
      "cell_type": "code",
      "source": [
        "X = abt.drop(['Transported', 'PassengerId'], axis = 1)\n",
        "X = pd.get_dummies(X)\n",
        "y = abt['Transported']\n"
      ],
      "metadata": {
        "id": "ptsKqBrvKQBe"
      },
      "execution_count": 170,
      "outputs": []
    },
    {
      "cell_type": "code",
      "source": [
        "X_train, X_val, y_train, y_val = train_test_split(X, y, test_size = 0.3, random_state=1234)"
      ],
      "metadata": {
        "id": "vjwylRrUOFdD"
      },
      "execution_count": 171,
      "outputs": []
    },
    {
      "cell_type": "code",
      "source": [
        "sns.countplot(x = 'Transported', data = df)"
      ],
      "metadata": {
        "id": "Cq5e_JPQXuKs"
      },
      "execution_count": null,
      "outputs": []
    },
    {
      "cell_type": "code",
      "source": [
        "X.head()"
      ],
      "metadata": {
        "id": "O87hjOVMOaYw"
      },
      "execution_count": null,
      "outputs": []
    },
    {
      "cell_type": "markdown",
      "source": [
        "**Setup ML Pipeline**"
      ],
      "metadata": {
        "id": "AKIKkUO0PAv2"
      }
    },
    {
      "cell_type": "code",
      "source": [
        "from sklearn.ensemble import RandomForestClassifier, GradientBoostingClassifier\n",
        "from sklearn.model_selection import GridSearchCV"
      ],
      "metadata": {
        "id": "4wN5zPYRPGvR"
      },
      "execution_count": 173,
      "outputs": []
    },
    {
      "cell_type": "code",
      "source": [
        "pipelines = {\n",
        "    'rf':make_pipeline(StandardScaler(), RandomForestClassifier(random_state=1234)),\n",
        "    'gb': make_pipeline(StandardScaler(), GradientBoostingClassifier(random_state=1234)),\n",
        "}"
      ],
      "metadata": {
        "id": "pcPYf8avPT6B"
      },
      "execution_count": 174,
      "outputs": []
    },
    {
      "cell_type": "code",
      "source": [
        "grid = {\n",
        "    'rf':{\n",
        "        'randomforestclassifier__n_estimators':[100,200,300]\n",
        "    },\n",
        "    'gb':{\n",
        "        'gradientboostingclassifier__n_estimators':[100,200,300]\n",
        "    }\n",
        "}"
      ],
      "metadata": {
        "id": "1uVhH8YQQm_q"
      },
      "execution_count": 175,
      "outputs": []
    },
    {
      "cell_type": "markdown",
      "source": [
        "Setup ML Model"
      ],
      "metadata": {
        "id": "f-yLW4IMoDeD"
      }
    },
    {
      "cell_type": "code",
      "source": [
        "fit_models = {}\n",
        "for algo, pipeline in pipelines.items():\n",
        "  model = GridSearchCV(pipeline, grid[algo], n_jobs= 1, cv=10)\n",
        "  model.fit(X_train, y_train)\n",
        "  fit_models[algo] = model"
      ],
      "metadata": {
        "id": "ud-5xNHbWD0I"
      },
      "execution_count": 176,
      "outputs": []
    },
    {
      "cell_type": "code",
      "source": [
        "from sklearn.metrics import accuracy_score, precision_score, recall_score"
      ],
      "metadata": {
        "id": "fM_87F6PZ3GO"
      },
      "execution_count": 178,
      "outputs": []
    },
    {
      "cell_type": "code",
      "source": [
        "for alg, model in fit_models.items():\n",
        "  yhat = model.predict(X_val)\n",
        "  accuracy = accuracy_score(y_val, yhat)\n",
        "  precision = precision_score(y_val, yhat)\n",
        "  recall = recall_score(y_val, yhat)\n",
        "\n",
        "  print(f\"Metrics for {algo} : accuracy - {accuracy}, precision - {precision}, recall - {recall}\")"
      ],
      "metadata": {
        "id": "gWt6IcSKaDsB"
      },
      "execution_count": null,
      "outputs": []
    },
    {
      "cell_type": "markdown",
      "source": [
        "**Test** **Model**"
      ],
      "metadata": {
        "id": "OmubZzEMoHgN"
      }
    },
    {
      "cell_type": "code",
      "source": [
        "import pickle"
      ],
      "metadata": {
        "id": "0s-2GI7Fc9K6"
      },
      "execution_count": 180,
      "outputs": []
    },
    {
      "cell_type": "code",
      "source": [
        "with open('gradientboostingmodel.pk1', 'wb') as f:\n",
        "  pickle.dump(fit_models['gb'], f)\n",
        "\n"
      ],
      "metadata": {
        "id": "8AhKPPyDdCQF"
      },
      "execution_count": 181,
      "outputs": []
    },
    {
      "cell_type": "code",
      "source": [
        "with open('gradientboostingmodel.pk1', 'rb') as f:\n",
        "  loaded_model = pickle.load(f)\n"
      ],
      "metadata": {
        "id": "uXT2E8fKdpXA"
      },
      "execution_count": 182,
      "outputs": []
    },
    {
      "cell_type": "code",
      "source": [
        "with open('randomforestclassifier.pk1', 'wb') as f:\n",
        "  pickle.dump(fit_models['rf'], f)\n"
      ],
      "metadata": {
        "id": "iyoiJ8Vddf_w"
      },
      "execution_count": 183,
      "outputs": []
    },
    {
      "cell_type": "code",
      "source": [
        "test_df = pd.read_csv('/content/test.csv')\n",
        "abt_test = test_df.copy()\n",
        "preprocessing(abt_test)\n",
        "abt_test = pd.get_dummies(abt_test.drop('PassengerId', axis = 1))\n",
        "abt_test"
      ],
      "metadata": {
        "id": "Qk9WWShJd_-t"
      },
      "execution_count": null,
      "outputs": []
    },
    {
      "cell_type": "code",
      "source": [
        "yhat_test = fit_models['gb'].predict(abt_test)"
      ],
      "metadata": {
        "id": "3XYVl4IqgQJf"
      },
      "execution_count": 185,
      "outputs": []
    },
    {
      "cell_type": "code",
      "source": [
        "submission = pd.DataFrame([test_df['PassengerId'], yhat_test]).T\n",
        "submission.columns = ['PassengerId', 'Transported']"
      ],
      "metadata": {
        "id": "dhfp0qq8hzMw"
      },
      "execution_count": 186,
      "outputs": []
    },
    {
      "cell_type": "code",
      "source": [
        "submission.to_csv('kaggle_submition.csv', index = False)"
      ],
      "metadata": {
        "id": "Opfsv6Mdi5Ww"
      },
      "execution_count": 188,
      "outputs": []
    }
  ]
}